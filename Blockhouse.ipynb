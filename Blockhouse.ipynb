{
  "nbformat": 4,
  "nbformat_minor": 0,
  "metadata": {
    "colab": {
      "provenance": []
    },
    "kernelspec": {
      "name": "ir",
      "display_name": "R"
    },
    "language_info": {
      "name": "R"
    }
  },
  "cells": [
    {
      "cell_type": "code",
      "source": [
        "install.packages('ggplot2')"
      ],
      "metadata": {
        "colab": {
          "base_uri": "https://localhost:8080/"
        },
        "id": "_wkOv8li91-n",
        "outputId": "4b59a89c-051f-43d5-b4ae-175407ed9657"
      },
      "execution_count": 26,
      "outputs": [
        {
          "output_type": "stream",
          "name": "stderr",
          "text": [
            "Installing package into ‘/usr/local/lib/R/site-library’\n",
            "(as ‘lib’ is unspecified)\n",
            "\n"
          ]
        }
      ]
    },
    {
      "cell_type": "code",
      "source": [
        "install.packages('dplyr')"
      ],
      "metadata": {
        "colab": {
          "base_uri": "https://localhost:8080/"
        },
        "id": "FnxDuCnV-PGN",
        "outputId": "b14e9466-1fd0-4982-f7d3-6aef676ad98d"
      },
      "execution_count": 27,
      "outputs": [
        {
          "output_type": "stream",
          "name": "stderr",
          "text": [
            "Installing package into ‘/usr/local/lib/R/site-library’\n",
            "(as ‘lib’ is unspecified)\n",
            "\n"
          ]
        }
      ]
    },
    {
      "cell_type": "code",
      "source": [
        "install.packages('minpack.lm')"
      ],
      "metadata": {
        "colab": {
          "base_uri": "https://localhost:8080/"
        },
        "id": "rcwb4Wee-aR0",
        "outputId": "a8400dd1-28cc-43d4-b37c-6f094ccae33d"
      },
      "execution_count": 28,
      "outputs": [
        {
          "output_type": "stream",
          "name": "stderr",
          "text": [
            "Installing package into ‘/usr/local/lib/R/site-library’\n",
            "(as ‘lib’ is unspecified)\n",
            "\n"
          ]
        }
      ]
    },
    {
      "cell_type": "code",
      "source": [
        "install.packages('TTR')"
      ],
      "metadata": {
        "colab": {
          "base_uri": "https://localhost:8080/"
        },
        "id": "53Y1SfI7GXmh",
        "outputId": "e6e263b7-089f-45d6-f4da-dd25938fddca"
      },
      "execution_count": 37,
      "outputs": [
        {
          "output_type": "stream",
          "name": "stderr",
          "text": [
            "Installing package into ‘/usr/local/lib/R/site-library’\n",
            "(as ‘lib’ is unspecified)\n",
            "\n",
            "also installing the dependencies ‘xts’, ‘zoo’\n",
            "\n",
            "\n"
          ]
        }
      ]
    },
    {
      "cell_type": "code",
      "source": [
        "install.packages('keras3')"
      ],
      "metadata": {
        "colab": {
          "base_uri": "https://localhost:8080/"
        },
        "collapsed": true,
        "id": "K4dPfr7pqcFL",
        "outputId": "b100e45b-2624-4f0f-a537-a52226cdbb16"
      },
      "execution_count": 23,
      "outputs": [
        {
          "output_type": "stream",
          "name": "stderr",
          "text": [
            "Installing package into ‘/usr/local/lib/R/site-library’\n",
            "(as ‘lib’ is unspecified)\n",
            "\n"
          ]
        }
      ]
    },
    {
      "cell_type": "code",
      "source": [
        "library(dplyr)\n",
        "library(ggplot2)\n",
        "library(minpack.lm)\n",
        "library(keras3)\n",
        "library(TTR)"
      ],
      "metadata": {
        "id": "sYkhprSn-fjq"
      },
      "execution_count": 29,
      "outputs": []
    },
    {
      "cell_type": "code",
      "execution_count": 30,
      "metadata": {
        "id": "rRjBPcCZ9Q8-"
      },
      "outputs": [],
      "source": [
        "data = read.csv('merged_data.csv')"
      ]
    },
    {
      "cell_type": "code",
      "source": [
        "data <- data %>%\n",
        "  mutate(Cumulative_Signed_Volume = cumsum(Signed.Volume)) %>%\n",
        "  mutate(Mid_Price_Change = c(NA, diff(mid_price))) %>%\n",
        "  na.omit()"
      ],
      "metadata": {
        "id": "Q9gQuZVL-i56"
      },
      "execution_count": 31,
      "outputs": []
    },
    {
      "cell_type": "code",
      "source": [
        "T = nrow(data)\n",
        "time = seq(1,T)\n",
        "data['time_index'] = time"
      ],
      "metadata": {
        "id": "MehAglmw_M7-"
      },
      "execution_count": 32,
      "outputs": []
    },
    {
      "cell_type": "markdown",
      "source": [
        "**Problem 1**"
      ],
      "metadata": {
        "id": "2eexbVnZxbmz"
      }
    },
    {
      "cell_type": "code",
      "source": [
        "data$moving_avg = SMA(data$mid_price,50)\n",
        "data$signal = (data$mid_price - data$moving_avg)/data$moving_avg\n",
        "data = na.omit(data)"
      ],
      "metadata": {
        "id": "poUh4vPTG2tg"
      },
      "execution_count": 40,
      "outputs": []
    },
    {
      "cell_type": "code",
      "source": [
        "data1 = data[1:1000,]"
      ],
      "metadata": {
        "id": "59L-_uBYIPV8"
      },
      "execution_count": 33,
      "outputs": []
    },
    {
      "cell_type": "markdown",
      "source": [],
      "metadata": {
        "id": "jn6aU8_uxev7"
      }
    },
    {
      "cell_type": "code",
      "source": [
        "ow_impact = function(Q, time, lambda, beta){\n",
        "  J_t = vector()\n",
        "  for(i in 1:length(time)){\n",
        "    J = 0\n",
        "    for(j in 1:i){\n",
        "      J = J + exp(-beta * time[i-j+1])*Q[j]\n",
        "    }\n",
        "    J_t[i] = J\n",
        "  }\n",
        "  return (lambda*J_t)\n",
        "}"
      ],
      "metadata": {
        "id": "wblhQiyT-mG6"
      },
      "execution_count": 83,
      "outputs": []
    },
    {
      "cell_type": "code",
      "source": [
        "ow_model = nlsLM(\n",
        "  Mid_Price_Change ~ ow_impact(Signed.Volume, time_index, lambda, beta),\n",
        "  data = data1,\n",
        "  start = list(lambda = 0.001, beta = 1)\n",
        ")"
      ],
      "metadata": {
        "id": "PPTN_Pr3Ai5G"
      },
      "execution_count": 84,
      "outputs": []
    },
    {
      "cell_type": "code",
      "source": [
        "coef(ow_model)"
      ],
      "metadata": {
        "colab": {
          "base_uri": "https://localhost:8080/",
          "height": 34
        },
        "id": "7FnzQthbIalC",
        "outputId": "b9c024bf-4b67-41ee-86b2-36e5e3651fc2"
      },
      "execution_count": 87,
      "outputs": [
        {
          "output_type": "display_data",
          "data": {
            "text/html": [
              "<style>\n",
              ".dl-inline {width: auto; margin:0; padding: 0}\n",
              ".dl-inline>dt, .dl-inline>dd {float: none; width: auto; display: inline-block}\n",
              ".dl-inline>dt::after {content: \":\\0020\"; padding-right: .5ex}\n",
              ".dl-inline>dt:not(:first-of-type) {padding-left: .5ex}\n",
              "</style><dl class=dl-inline><dt>lambda</dt><dd>2.31048447332938e-05</dd><dt>beta</dt><dd>10.69343377636</dd></dl>\n"
            ],
            "text/markdown": "lambda\n:   2.31048447332938e-05beta\n:   10.69343377636\n\n",
            "text/latex": "\\begin{description*}\n\\item[lambda] 2.31048447332938e-05\n\\item[beta] 10.69343377636\n\\end{description*}\n",
            "text/plain": [
              "      lambda         beta \n",
              "2.310484e-05 1.069343e+01 "
            ]
          },
          "metadata": {}
        }
      ]
    },
    {
      "cell_type": "code",
      "source": [
        "data$ow_impact = predict(ow_model,data)"
      ],
      "metadata": {
        "id": "mL6z8QW9JbvW"
      },
      "execution_count": 85,
      "outputs": []
    },
    {
      "cell_type": "code",
      "source": [
        "ggplot(data[data$ow_impact >= quantile(data$ow_impact, 0.25) - 1.5 * IQR(data$ow_impact) &\n",
        "            data$ow_impact <= quantile(data$ow_impact, 0.75) + 1.5 * IQR(data$ow_impact), ]\n",
        "  , aes(x = ow_impact)) +\n",
        "  geom_histogram(bins = 10, fill = \"red\", alpha = 0.7) +\n",
        "  labs(title = \"Linear OW Model Price Impact Distribution\",\n",
        "       x = \"Price Impact\",\n",
        "       y = \"Frequency\") +\n",
        "  theme_minimal()"
      ],
      "metadata": {
        "colab": {
          "base_uri": "https://localhost:8080/",
          "height": 437
        },
        "id": "kRFHQ_5LJ8AY",
        "outputId": "61f00202-3315-46b9-ef3e-35116b5a92a8"
      },
      "execution_count": 94,
      "outputs": [
        {
          "output_type": "display_data",
          "data": {
            "text/plain": [
              "plot without title"
            ],
            "image/png": "[encoded data removed]"
          },
          "metadata": {
            "image/png": {
              "width": 420,
              "height": 420
            }
          }
        }
      ]
    },
    {
      "cell_type": "code",
      "source": [
        "afs_impact = function(Q, time, lambda, beta, p){\n",
        "  J_t = vector()\n",
        "  for(i in 1:length(time)){\n",
        "    J = 0\n",
        "    for(j in 1:i){\n",
        "      J = J + exp(-beta * time[i-j+1])*Q[j]\n",
        "    }\n",
        "    J_t[i] = J\n",
        "  }\n",
        "  return (lambda*sign(J_t)*abs(J_t)^p)\n",
        "}"
      ],
      "metadata": {
        "id": "qtod656jC0j1"
      },
      "execution_count": 88,
      "outputs": []
    },
    {
      "cell_type": "code",
      "source": [
        "afs_model = nlsLM(\n",
        "  Mid_Price_Change ~ afs_impact(Signed.Volume, time_index, lambda, beta, p),\n",
        "  data = data1,\n",
        "  start = list(lambda = 0.001, beta = 1, p = 1.5)\n",
        ")"
      ],
      "metadata": {
        "id": "DYZsEcXxKhKC"
      },
      "execution_count": 89,
      "outputs": []
    },
    {
      "cell_type": "code",
      "source": [
        "coef(afs_model)"
      ],
      "metadata": {
        "colab": {
          "base_uri": "https://localhost:8080/",
          "height": 34
        },
        "id": "EolqRHpHKtdo",
        "outputId": "62eef042-a387-4122-a4c5-8fab3c7e3f64"
      },
      "execution_count": 90,
      "outputs": [
        {
          "output_type": "display_data",
          "data": {
            "text/html": [
              "<style>\n",
              ".dl-inline {width: auto; margin:0; padding: 0}\n",
              ".dl-inline>dt, .dl-inline>dd {float: none; width: auto; display: inline-block}\n",
              ".dl-inline>dt::after {content: \":\\0020\"; padding-right: .5ex}\n",
              ".dl-inline>dt:not(:first-of-type) {padding-left: .5ex}\n",
              "</style><dl class=dl-inline><dt>lambda</dt><dd>0.0014786315968373</dd><dt>beta</dt><dd>3.56798713241644</dd><dt>p</dt><dd>-0.275749221859613</dd></dl>\n"
            ],
            "text/markdown": "lambda\n:   0.0014786315968373beta\n:   3.56798713241644p\n:   -0.275749221859613\n\n",
            "text/latex": "\\begin{description*}\n\\item[lambda] 0.0014786315968373\n\\item[beta] 3.56798713241644\n\\item[p] -0.275749221859613\n\\end{description*}\n",
            "text/plain": [
              "      lambda         beta            p \n",
              " 0.001478632  3.567987132 -0.275749222 "
            ]
          },
          "metadata": {}
        }
      ]
    },
    {
      "cell_type": "code",
      "source": [
        "data$afs_impact = predict(afs_model,data)"
      ],
      "metadata": {
        "id": "vl1xzALmKzm4"
      },
      "execution_count": 91,
      "outputs": []
    },
    {
      "cell_type": "code",
      "source": [
        "ggplot(data[data$afs_impact >= quantile(data$afs_impact, 0.25) - 1.5 * IQR(data$afs_impact) &\n",
        "            data$afs_impact <= quantile(data$afs_impact, 0.75) + 1.5 * IQR(data$afs_impact), ]\n",
        "  , aes(x = afs_impact)) +\n",
        "  geom_histogram(bins = 10, fill = \"blue\", alpha = 0.7) +\n",
        "  labs(title = \"Non-Linear AFS Model Price Impact Distribution\",\n",
        "       x = \"Price Impact\",\n",
        "       y = \"Frequency\") +\n",
        "  theme_minimal()"
      ],
      "metadata": {
        "colab": {
          "base_uri": "https://localhost:8080/",
          "height": 437
        },
        "id": "Doi4IhizLNWB",
        "outputId": "17b9e9a0-d694-4f4f-824c-307b828e2142"
      },
      "execution_count": 93,
      "outputs": [
        {
          "output_type": "display_data",
          "data": {
            "text/plain": [
              "plot without title"
            ],
            "image/png": "[encoded data removed]"
          },
          "metadata": {
            "image/png": {
              "width": 420,
              "height": 420
            }
          }
        }
      ]
    },
    {
      "cell_type": "markdown",
      "source": [
        "**Problem 2**\n"
      ],
      "metadata": {
        "id": "3T7UiwHhxFC1"
      }
    },
    {
      "cell_type": "code",
      "source": [
        "objective = function(Q, f, J, gamma, lambda, beta){\n",
        "  return(mean(alpha*Q*f - beta*lambda*J*Q - (gamma*sigma^2 / 2)*Q^2))\n",
        "}\n",
        "\n",
        "alpha = 1.67e-4\n",
        "sigma = 0.02\n",
        "phi = 0.139\n",
        "\n",
        "J_t = vector()\n",
        "  for(i in 1:nrow(data)){\n",
        "    J = 0\n",
        "    for(j in 1:i){\n",
        "      J = J + exp(-beta * data$time_index[i-j+1])*data$Signed.Volume[j]\n",
        "    }\n",
        "    J_t[i] = J\n",
        "  }\n",
        "\n",
        "\n",
        "#fixed lambda case\n",
        "\n",
        "lambda = coef('ow_model')['lambda']\n",
        "beta_list = seq(2,4,0.01)\n",
        "\n",
        "SR1 = numeric(length(beta_list))\n",
        "for(i in 1:length(beta_list)){\n",
        "  beta = beta_list[i]\n",
        "  gamma_hat = optim(1, function(gamma) objective(Q, f, J, gamma, lambda, beta), method = 'BFGS')$par\n",
        "  Cf = (alpha * (1 + beta / phi)) / (gamma_hat * sigma^2) * sqrt(1 + (2 * lambda * beta) / (gamma_hat * sigma^2))\n",
        "  CJ = sqrt(1 + (2 * lambda * beta) / (gamma_hat * sigma^2)) - 1\n",
        "\n",
        "  E = mean(Cf*data$signal - CJ*J_t)\n",
        "  risk <- (alpha^2 * sigma^2) / ((gamma_hat * sigma^2)^2) *\n",
        "    ((beta / phi + 1)^2 * (beta / phi * sqrt(1 + (2 * lambda * beta) / (gamma_hat * sigma^2)) + 1)) /\n",
        "    (sqrt(1 + (2 * lambda * beta) / (gamma_hat * sigma^2)) *\n",
        "       (sqrt(1 + (2 * lambda * beta) / (gamma_hat * sigma^2)) + beta / phi)^3)\n",
        "\n",
        "  SR1[i] = E/sqrt(risk)\n",
        "}\n",
        "\n",
        "#for fixed beta\n",
        "lambda_list = seq(0.001,0.005,0.0001)\n",
        "beta = coef('ow_model')['beta']\n",
        "\n",
        "SR2 = numeric(length(lambda_list))\n",
        "for(i in 1:length(lambda_list)){\n",
        "  lambda = lambda_list[i]\n",
        "  gamma_hat = optim(1, function(gamma) objective(Q, f, J, gamma, lambda, beta), method = 'BFGS')$par\n",
        "  Cf = (alpha * (1 + beta / phi)) / (gamma_hat * sigma^2) * sqrt(1 + (2 * lambda * beta) / (gamma_hat * sigma^2))\n",
        "  CJ = sqrt(1 + (2 * lambda * beta) / (gamma_hat * sigma^2)) - 1\n",
        "\n",
        "  E = mean(Cf*data$signal - CJ*J_t)\n",
        "  risk <- (alpha^2 * sigma^2) / ((gamma_hat * sigma^2)^2) *\n",
        "    ((beta / phi + 1)^2 * (beta / phi * sqrt(1 + (2 * lambda * beta) / (gamma_hat * sigma^2)) + 1)) /\n",
        "    (sqrt(1 + (2 * lambda * beta) / (gamma_hat * sigma^2)) *\n",
        "       (sqrt(1 + (2 * lambda * beta) / (gamma_hat * sigma^2)) + beta / phi)^3)\n",
        "\n",
        "  SR2[i] = E/sqrt(risk)\n",
        "}\n",
        "\n",
        "data2 = data.frame(\n",
        "  param_value = beta_list\n",
        "  sharpe = SR1\n",
        ")\n",
        "\n",
        "data3 = data.frame(\n",
        "  param_value = lambda_list\n",
        "  sharpe = SR2\n",
        ")\n",
        "\n",
        "ggplot(data2, aes(x = param_value, y = sharpe)) +\n",
        "  geom_line(size = 1) +\n",
        "  theme_minimal() +\n",
        "  labs(\n",
        "    title = \"Fixed Lambda\",\n",
        "    x = \"lambda\",\n",
        "    y = \"Sharpe Ratio\"\n",
        "  )\n",
        "\n",
        "ggplot(data3, aes(x = param_value, y = sharpe)) +\n",
        "  geom_line(size = 1) +\n",
        "  theme_minimal() +\n",
        "  labs(\n",
        "    title = \"Fixed beta\",\n",
        "    x = \"beta\",\n",
        "    y = \"Sharpe Ratio\"\n",
        "  )"
      ],
      "metadata": {
        "id": "lVm-JqXcxOds"
      },
      "execution_count": null,
      "outputs": []
    },
    {
      "cell_type": "markdown",
      "source": [
        "**Problem 3**"
      ],
      "metadata": {
        "id": "Hy6lmGrXqcj2"
      }
    },
    {
      "cell_type": "code",
      "source": [
        "NetSimple = keras_model_sequential() %>%\n",
        "  layer_dense(units = 128, activation = \"relu\", input_shape = 2) %>%  # Input: (f, J0)\n",
        "  layer_dense(units = 32, activation = \"relu\", input_shape = 128) %>%\n",
        "  layer_dense(units = 8, activation = \"relu\", input_shape = 32) %>%\n",
        "  layer_dense(units = 1, activation = \"linear\", input_shape = 8)\n",
        "\n",
        "NetPower = keras_model_sequential() %>%\n",
        "  layer_dense(units = 128, activation = \"relu\", input_shape = 2) %>%  # Input: (f, J0)\n",
        "  layer_dense(units = 32, activation = \"relu\", input_shape = 128) %>%\n",
        "  layer_dense(units = 8, activation = \"relu\", input_shape = 32) %>%\n",
        "  layer_dense(units = 1, activation = \"linear\", input_shape = 8)\n",
        "\n",
        "NL = function(x, B, p, a, b){\n",
        "  if(abs(x)<B){\n",
        "    return (sign(x)*abs(x)^p)\n",
        "  }\n",
        "  else{\n",
        "    return(a*x + sign(x)*b)\n",
        "  }\n",
        "}\n",
        "\n",
        "NetLinear = keras_model_sequential() %>%\n",
        "  layer_dense(units = 1, activation = \"linear\", input_shape = 2)"
      ],
      "metadata": {
        "id": "ve9Hek-qrPWs"
      },
      "execution_count": 35,
      "outputs": []
    },
    {
      "cell_type": "code",
      "source": [
        "NetSimple %>% compile(\n",
        "  optimizer = optimizer_adam(learning_rate = 0.01),\n",
        "  loss = function(y_true, y_pred){\n",
        "    current_theta <- get_weights(NetSimple)\n",
        "    gradient <- simulate_dynamics(NetSimple, f_n, current_theta)\n",
        "    return(gradient)\n",
        "  }\n",
        ")\n",
        "\n",
        "simulate_dynamics <- function(model, f_n, theta) {\n",
        "\n",
        "  alpha = 1.67e-4\n",
        "  beta = 2\n",
        "  lambda = 0.0035\n",
        "  dt = 0.01\n",
        "  gamma = 1\n",
        "  sigma = 0.02\n",
        "  p = 1.8\n",
        "  alpha_hat = alpha * (1-exp(-beta*dt))/(beta*dt)\n",
        "  lambda_hat = lambda * (1-exp(-beta*(p+1)*p*dt))/(beta*(p+1)*dt)\n",
        "\n",
        "  Q = numeric(N)\n",
        "  J0 = numeric(N)\n",
        "  J = numeric(N)\n",
        "\n",
        "  # Initial values\n",
        "  J0[1] = 0\n",
        "  Q[1] = predict(model, matrix(c(f_n[1], J0[1]), ncol = 2))\n",
        "  J[1] = Q[1]\n",
        "\n",
        "  # Simulate dynamics for n = 2 to N\n",
        "  for (n in 2:N) {\n",
        "    Q[n] = as.numeric(predict(model, matrix(c(f_n[n - 1], J0[n - 1]), ncol = 2)))\n",
        "    J0[n] = exp(-beta * dt) * J0[n - 1] - (1 - exp(-beta * dt)) * Q[n]\n",
        "    J[n] = Q[n] + J0[n]\n",
        "  }\n",
        "\n",
        "  # Compute reward (objective function)\n",
        "  reward = alpha_hat * Q * f_n - (gamma * sigma^2 / 2) * Q^2 - lambda_hat * abs(J)^(p + 1)\n",
        "  total_reward = sum(reward)\n",
        "\n",
        "  return(-total_reward)  # Return negative reward for minimization\n",
        "}\n",
        "\n",
        "f_n = na.omit(data1)$signal\n",
        "N = length(f_n)\n",
        "\n",
        "# Train the model\n",
        "history1 <- NetSimple %>% fit(\n",
        "  x = matrix(c(f_n[1:(N - 1)], rep(0, N - 1)), ncol = 2),  # Placeholder for initial inputs\n",
        "  y = rep(0, N - 1),  # Placeholder target values\n",
        "  epochs = 50,\n",
        "  batch_size = 32\n",
        ")\n",
        "\n",
        "loss <- history1$metrics$loss\n",
        "epochs <- seq_along(loss)\n",
        "\n",
        "# Plot the training loss\n",
        "plot(\n",
        "  epochs, loss, type = \"l\",\n",
        "  xlab = \"Epoch\", ylab = \"Training Loss\",\n",
        "  main = \"Training Loss vs. Epoch\",\n",
        "  col = \"blue\", lwd = 2\n",
        ")"
      ],
      "metadata": {
        "id": "ASIBplm0RzzQ"
      },
      "execution_count": null,
      "outputs": []
    },
    {
      "cell_type": "code",
      "source": [
        "NetPower %>% compile(\n",
        "  optimizer = optimizer_adam(learning_rate = 0.01),\n",
        "  loss = function(y_true, y_pred){\n",
        "    current_theta <- get_weights(NetPower)\n",
        "    gradient <- simulate_dynamics(NetPower, f_n, current_theta)\n",
        "    return(gradient)\n",
        "  }\n",
        ")\n",
        "\n",
        "simulate_dynamics <- function(model, f_n, theta) {\n",
        "\n",
        "  alpha = 1.67e-4\n",
        "  beta = 2\n",
        "  lambda = 0.0035\n",
        "  dt = 0.01\n",
        "  gamma = 1\n",
        "  sigma = 0.02\n",
        "  p = 1.8\n",
        "  alpha_hat = alpha * (1-exp(-beta*dt))/(beta*dt)\n",
        "  lambda_hat = lambda * (1-exp(-beta*(p+1)*p*dt))/(beta*(p+1)*dt)\n",
        "  B = 10000\n",
        "  a = (1/p)*(B^((1/p)-1))\n",
        "  b = (1-(1/p))*B^(1/p)\n",
        "\n",
        "  Q = numeric(N)\n",
        "  J0 = numeric(N)\n",
        "  J = numeric(N)\n",
        "\n",
        "  # Initial values\n",
        "  J0[1] = 0\n",
        "  Q[1] = predict(model, matrix(c(f_n[1], J0[1]), ncol = 2))\n",
        "  J[1] = Q[1]\n",
        "\n",
        "  # Simulate dynamics for n = 2 to N\n",
        "  for (n in 2:N) {\n",
        "    Q[n] = NL(as.numeric(predict(model, matrix(c(f_n[n - 1], J0[n - 1]), ncol = 2))), B, p, a, b)\n",
        "    J0[n] = exp(-beta * dt) * J0[n - 1] - (1 - exp(-beta * dt)) * Q[n]\n",
        "    J[n] = Q[n] + J0[n]\n",
        "  }\n",
        "\n",
        "  # Compute reward (objective function)\n",
        "  reward = alpha_hat * Q * f_n - (gamma * sigma^2 / 2) * Q^2 - lambda_hat * abs(J)^(p + 1)\n",
        "  total_reward = sum(reward)\n",
        "\n",
        "  return(-total_reward)  # Return negative reward for minimization\n",
        "}\n",
        "\n",
        "f_n = na.omit(data1)$signal\n",
        "N = length(f_n)\n",
        "\n",
        "# Train the model\n",
        "history2 <- NetPower %>% fit(\n",
        "  x = matrix(c(f_n[1:(N - 1)], rep(0, N - 1)), ncol = 2),  # Placeholder for initial inputs\n",
        "  y = rep(0, N - 1),  # Placeholder target values\n",
        "  epochs = 50,\n",
        "  batch_size = 32\n",
        ")\n",
        "\n",
        "loss <- history2$metrics$loss\n",
        "epochs <- seq_along(loss)\n",
        "\n",
        "# Plot the training loss\n",
        "plot(\n",
        "  epochs, loss, type = \"l\",\n",
        "  xlab = \"Epoch\", ylab = \"Training Loss\",\n",
        "  main = \"Training Loss vs. Epoch\",\n",
        "  col = \"blue\", lwd = 2\n",
        ")"
      ],
      "metadata": {
        "colab": {
          "base_uri": "https://localhost:8080/",
          "height": 1000
        },
        "collapsed": true,
        "id": "yRsom2A8seED",
        "outputId": "a2842cba-9b40-4d9a-ff81-0f312fd09ba7"
      },
      "execution_count": 48,
      "outputs": [
        {
          "output_type": "display_data",
          "data": {
            "text/html": [
              "<table class=\"dataframe\">\n",
              "<caption>A matrix: 950 × 2 of type dbl</caption>\n",
              "<tbody>\n",
              "\t<tr><td>-1.276532e-04</td><td>0</td></tr>\n",
              "\t<tr><td>-1.509814e-04</td><td>0</td></tr>\n",
              "\t<tr><td>-1.119657e-04</td><td>0</td></tr>\n",
              "\t<tr><td>-8.906570e-05</td><td>0</td></tr>\n",
              "\t<tr><td>-8.652302e-05</td><td>0</td></tr>\n",
              "\t<tr><td>-8.355611e-05</td><td>0</td></tr>\n",
              "\t<tr><td>-1.849310e-04</td><td>0</td></tr>\n",
              "\t<tr><td>-1.764494e-04</td><td>0</td></tr>\n",
              "\t<tr><td>-3.266075e-04</td><td>0</td></tr>\n",
              "\t<tr><td>-2.672288e-04</td><td>0</td></tr>\n",
              "\t<tr><td>-2.820767e-04</td><td>0</td></tr>\n",
              "\t<tr><td>-1.459177e-04</td><td>0</td></tr>\n",
              "\t<tr><td>-1.522794e-04</td><td>0</td></tr>\n",
              "\t<tr><td>-1.794256e-04</td><td>0</td></tr>\n",
              "\t<tr><td>-3.100702e-04</td><td>0</td></tr>\n",
              "\t<tr><td>-2.718935e-04</td><td>0</td></tr>\n",
              "\t<tr><td>-2.761340e-04</td><td>0</td></tr>\n",
              "\t<tr><td>-3.219432e-04</td><td>0</td></tr>\n",
              "\t<tr><td>-3.253354e-04</td><td>0</td></tr>\n",
              "\t<tr><td>-1.501556e-04</td><td>0</td></tr>\n",
              "\t<tr><td>-1.238578e-04</td><td>0</td></tr>\n",
              "\t<tr><td>-1.391288e-04</td><td>0</td></tr>\n",
              "\t<tr><td>-9.162186e-05</td><td>0</td></tr>\n",
              "\t<tr><td>-1.073169e-04</td><td>0</td></tr>\n",
              "\t<tr><td>-8.101834e-05</td><td>0</td></tr>\n",
              "\t<tr><td>-7.592857e-05</td><td>0</td></tr>\n",
              "\t<tr><td>-9.204795e-05</td><td>0</td></tr>\n",
              "\t<tr><td>-1.068951e-04</td><td>0</td></tr>\n",
              "\t<tr><td>-1.208941e-04</td><td>0</td></tr>\n",
              "\t<tr><td>-9.713972e-05</td><td>0</td></tr>\n",
              "\t<tr><td>⋮</td><td>⋮</td></tr>\n",
              "\t<tr><td>-1.060682e-05</td><td>0</td></tr>\n",
              "\t<tr><td> 5.430697e-05</td><td>0</td></tr>\n",
              "\t<tr><td>-4.921581e-05</td><td>0</td></tr>\n",
              "\t<tr><td> 5.727705e-05</td><td>0</td></tr>\n",
              "\t<tr><td> 1.357676e-05</td><td>0</td></tr>\n",
              "\t<tr><td>-1.743771e-04</td><td>0</td></tr>\n",
              "\t<tr><td>-1.709835e-04</td><td>0</td></tr>\n",
              "\t<tr><td>-1.675898e-04</td><td>0</td></tr>\n",
              "\t<tr><td>-1.637719e-04</td><td>0</td></tr>\n",
              "\t<tr><td>-1.603783e-04</td><td>0</td></tr>\n",
              "\t<tr><td>-1.786229e-04</td><td>0</td></tr>\n",
              "\t<tr><td>-1.544392e-04</td><td>0</td></tr>\n",
              "\t<tr><td>-1.722597e-04</td><td>0</td></tr>\n",
              "\t<tr><td>-1.900804e-04</td><td>0</td></tr>\n",
              "\t<tr><td>-1.654723e-04</td><td>0</td></tr>\n",
              "\t<tr><td>-1.625028e-04</td><td>0</td></tr>\n",
              "\t<tr><td>-1.383187e-04</td><td>0</td></tr>\n",
              "\t<tr><td>-1.353491e-04</td><td>0</td></tr>\n",
              "\t<tr><td>-1.319552e-04</td><td>0</td></tr>\n",
              "\t<tr><td>-1.493518e-04</td><td>0</td></tr>\n",
              "\t<tr><td>-1.234704e-04</td><td>0</td></tr>\n",
              "\t<tr><td>-1.387459e-04</td><td>0</td></tr>\n",
              "\t<tr><td>-1.544458e-04</td><td>0</td></tr>\n",
              "\t<tr><td>-1.485064e-04</td><td>0</td></tr>\n",
              "\t<tr><td>-1.014092e-04</td><td>0</td></tr>\n",
              "\t<tr><td>-2.002739e-04</td><td>0</td></tr>\n",
              "\t<tr><td>-2.142777e-04</td><td>0</td></tr>\n",
              "\t<tr><td>-2.070659e-04</td><td>0</td></tr>\n",
              "\t<tr><td>-1.794865e-04</td><td>0</td></tr>\n",
              "\t<tr><td>-1.726986e-04</td><td>0</td></tr>\n",
              "</tbody>\n",
              "</table>\n"
            ],
            "text/markdown": "\nA matrix: 950 × 2 of type dbl\n\n| -1.276532e-04 | 0 |\n| -1.509814e-04 | 0 |\n| -1.119657e-04 | 0 |\n| -8.906570e-05 | 0 |\n| -8.652302e-05 | 0 |\n| -8.355611e-05 | 0 |\n| -1.849310e-04 | 0 |\n| -1.764494e-04 | 0 |\n| -3.266075e-04 | 0 |\n| -2.672288e-04 | 0 |\n| -2.820767e-04 | 0 |\n| -1.459177e-04 | 0 |\n| -1.522794e-04 | 0 |\n| -1.794256e-04 | 0 |\n| -3.100702e-04 | 0 |\n| -2.718935e-04 | 0 |\n| -2.761340e-04 | 0 |\n| -3.219432e-04 | 0 |\n| -3.253354e-04 | 0 |\n| -1.501556e-04 | 0 |\n| -1.238578e-04 | 0 |\n| -1.391288e-04 | 0 |\n| -9.162186e-05 | 0 |\n| -1.073169e-04 | 0 |\n| -8.101834e-05 | 0 |\n| -7.592857e-05 | 0 |\n| -9.204795e-05 | 0 |\n| -1.068951e-04 | 0 |\n| -1.208941e-04 | 0 |\n| -9.713972e-05 | 0 |\n| ⋮ | ⋮ |\n| -1.060682e-05 | 0 |\n|  5.430697e-05 | 0 |\n| -4.921581e-05 | 0 |\n|  5.727705e-05 | 0 |\n|  1.357676e-05 | 0 |\n| -1.743771e-04 | 0 |\n| -1.709835e-04 | 0 |\n| -1.675898e-04 | 0 |\n| -1.637719e-04 | 0 |\n| -1.603783e-04 | 0 |\n| -1.786229e-04 | 0 |\n| -1.544392e-04 | 0 |\n| -1.722597e-04 | 0 |\n| -1.900804e-04 | 0 |\n| -1.654723e-04 | 0 |\n| -1.625028e-04 | 0 |\n| -1.383187e-04 | 0 |\n| -1.353491e-04 | 0 |\n| -1.319552e-04 | 0 |\n| -1.493518e-04 | 0 |\n| -1.234704e-04 | 0 |\n| -1.387459e-04 | 0 |\n| -1.544458e-04 | 0 |\n| -1.485064e-04 | 0 |\n| -1.014092e-04 | 0 |\n| -2.002739e-04 | 0 |\n| -2.142777e-04 | 0 |\n| -2.070659e-04 | 0 |\n| -1.794865e-04 | 0 |\n| -1.726986e-04 | 0 |\n\n",
            "text/latex": "A matrix: 950 × 2 of type dbl\n\\begin{tabular}{ll}\n\t -1.276532e-04 & 0\\\\\n\t -1.509814e-04 & 0\\\\\n\t -1.119657e-04 & 0\\\\\n\t -8.906570e-05 & 0\\\\\n\t -8.652302e-05 & 0\\\\\n\t -8.355611e-05 & 0\\\\\n\t -1.849310e-04 & 0\\\\\n\t -1.764494e-04 & 0\\\\\n\t -3.266075e-04 & 0\\\\\n\t -2.672288e-04 & 0\\\\\n\t -2.820767e-04 & 0\\\\\n\t -1.459177e-04 & 0\\\\\n\t -1.522794e-04 & 0\\\\\n\t -1.794256e-04 & 0\\\\\n\t -3.100702e-04 & 0\\\\\n\t -2.718935e-04 & 0\\\\\n\t -2.761340e-04 & 0\\\\\n\t -3.219432e-04 & 0\\\\\n\t -3.253354e-04 & 0\\\\\n\t -1.501556e-04 & 0\\\\\n\t -1.238578e-04 & 0\\\\\n\t -1.391288e-04 & 0\\\\\n\t -9.162186e-05 & 0\\\\\n\t -1.073169e-04 & 0\\\\\n\t -8.101834e-05 & 0\\\\\n\t -7.592857e-05 & 0\\\\\n\t -9.204795e-05 & 0\\\\\n\t -1.068951e-04 & 0\\\\\n\t -1.208941e-04 & 0\\\\\n\t -9.713972e-05 & 0\\\\\n\t ⋮ & ⋮\\\\\n\t -1.060682e-05 & 0\\\\\n\t  5.430697e-05 & 0\\\\\n\t -4.921581e-05 & 0\\\\\n\t  5.727705e-05 & 0\\\\\n\t  1.357676e-05 & 0\\\\\n\t -1.743771e-04 & 0\\\\\n\t -1.709835e-04 & 0\\\\\n\t -1.675898e-04 & 0\\\\\n\t -1.637719e-04 & 0\\\\\n\t -1.603783e-04 & 0\\\\\n\t -1.786229e-04 & 0\\\\\n\t -1.544392e-04 & 0\\\\\n\t -1.722597e-04 & 0\\\\\n\t -1.900804e-04 & 0\\\\\n\t -1.654723e-04 & 0\\\\\n\t -1.625028e-04 & 0\\\\\n\t -1.383187e-04 & 0\\\\\n\t -1.353491e-04 & 0\\\\\n\t -1.319552e-04 & 0\\\\\n\t -1.493518e-04 & 0\\\\\n\t -1.234704e-04 & 0\\\\\n\t -1.387459e-04 & 0\\\\\n\t -1.544458e-04 & 0\\\\\n\t -1.485064e-04 & 0\\\\\n\t -1.014092e-04 & 0\\\\\n\t -2.002739e-04 & 0\\\\\n\t -2.142777e-04 & 0\\\\\n\t -2.070659e-04 & 0\\\\\n\t -1.794865e-04 & 0\\\\\n\t -1.726986e-04 & 0\\\\\n\\end{tabular}\n",
            "text/plain": [
              "      [,1]          [,2]\n",
              " [1,] -1.276532e-04 0   \n",
              " [2,] -1.509814e-04 0   \n",
              " [3,] -1.119657e-04 0   \n",
              " [4,] -8.906570e-05 0   \n",
              " [5,] -8.652302e-05 0   \n",
              " [6,] -8.355611e-05 0   \n",
              " [7,] -1.849310e-04 0   \n",
              " [8,] -1.764494e-04 0   \n",
              " [9,] -3.266075e-04 0   \n",
              "[10,] -2.672288e-04 0   \n",
              "[11,] -2.820767e-04 0   \n",
              "[12,] -1.459177e-04 0   \n",
              "[13,] -1.522794e-04 0   \n",
              "[14,] -1.794256e-04 0   \n",
              "[15,] -3.100702e-04 0   \n",
              "[16,] -2.718935e-04 0   \n",
              "[17,] -2.761340e-04 0   \n",
              "[18,] -3.219432e-04 0   \n",
              "[19,] -3.253354e-04 0   \n",
              "[20,] -1.501556e-04 0   \n",
              "[21,] -1.238578e-04 0   \n",
              "[22,] -1.391288e-04 0   \n",
              "[23,] -9.162186e-05 0   \n",
              "[24,] -1.073169e-04 0   \n",
              "[25,] -8.101834e-05 0   \n",
              "[26,] -7.592857e-05 0   \n",
              "[27,] -9.204795e-05 0   \n",
              "[28,] -1.068951e-04 0   \n",
              "[29,] -1.208941e-04 0   \n",
              "[30,] -9.713972e-05 0   \n",
              "[31,] ⋮             ⋮   \n",
              "[32,] -1.060682e-05 0   \n",
              "[33,]  5.430697e-05 0   \n",
              "[34,] -4.921581e-05 0   \n",
              "[35,]  5.727705e-05 0   \n",
              "[36,]  1.357676e-05 0   \n",
              "[37,] -1.743771e-04 0   \n",
              "[38,] -1.709835e-04 0   \n",
              "[39,] -1.675898e-04 0   \n",
              "[40,] -1.637719e-04 0   \n",
              "[41,] -1.603783e-04 0   \n",
              "[42,] -1.786229e-04 0   \n",
              "[43,] -1.544392e-04 0   \n",
              "[44,] -1.722597e-04 0   \n",
              "[45,] -1.900804e-04 0   \n",
              "[46,] -1.654723e-04 0   \n",
              "[47,] -1.625028e-04 0   \n",
              "[48,] -1.383187e-04 0   \n",
              "[49,] -1.353491e-04 0   \n",
              "[50,] -1.319552e-04 0   \n",
              "[51,] -1.493518e-04 0   \n",
              "[52,] -1.234704e-04 0   \n",
              "[53,] -1.387459e-04 0   \n",
              "[54,] -1.544458e-04 0   \n",
              "[55,] -1.485064e-04 0   \n",
              "[56,] -1.014092e-04 0   \n",
              "[57,] -2.002739e-04 0   \n",
              "[58,] -2.142777e-04 0   \n",
              "[59,] -2.070659e-04 0   \n",
              "[60,] -1.794865e-04 0   \n",
              "[61,] -1.726986e-04 0   "
            ]
          },
          "metadata": {}
        }
      ]
    },
    {
      "cell_type": "code",
      "source": [
        "NetLinear %>% compile(\n",
        "  optimizer = optimizer_adam(learning_rate = 0.01),\n",
        "  loss = function(y_true, y_pred){\n",
        "    current_theta <- get_weights(NetLinear)\n",
        "    gradient <- simulate_dynamics(NetLinear, f_n, current_theta)\n",
        "    return(gradient)\n",
        "  }\n",
        ")\n",
        "\n",
        "simulate_dynamics <- function(model, f_n, theta) {\n",
        "\n",
        "  alpha = 1.67e-4\n",
        "  beta = 2\n",
        "  lambda = 0.0035\n",
        "  dt = 0.01\n",
        "  gamma = 1\n",
        "  sigma = 0.02\n",
        "  p = 1.8\n",
        "  alpha_hat = alpha * (1-exp(-beta*dt))/(beta*dt)\n",
        "  lambda_hat = lambda * (1-exp(-beta*(p+1)*p*dt))/(beta*(p+1)*dt)\n",
        "\n",
        "  Q = numeric(N)\n",
        "  J0 = numeric(N)\n",
        "  J = numeric(N)\n",
        "\n",
        "  # Initial values\n",
        "  J0[1] = 0\n",
        "  Q[1] = predict(model, matrix(c(f_n[1], J0[1]), ncol = 2))\n",
        "  J[1] = Q[1]\n",
        "\n",
        "  # Simulate dynamics for n = 2 to N\n",
        "  for (n in 2:N) {\n",
        "    Q[n] = as.numeric(predict(model, matrix(c(f_n[n - 1], J0[n - 1]), ncol = 2)))\n",
        "    J0[n] = exp(-beta * dt) * J0[n - 1] - (1 - exp(-beta * dt)) * Q[n]\n",
        "    J[n] = Q[n] + J0[n]\n",
        "  }\n",
        "\n",
        "  # Compute reward (objective function)\n",
        "  reward = alpha_hat * Q * f_n - (gamma * sigma^2 / 2) * Q^2 - lambda_hat * abs(J)^(p + 1)\n",
        "  total_reward = sum(reward)\n",
        "\n",
        "  return(-total_reward)  # Return negative reward for minimization\n",
        "}\n",
        "\n",
        "f_n = na.omit(data1)$signal\n",
        "N = length(f_n)\n",
        "\n",
        "# Train the model\n",
        "history3 <- NetLinear %>% fit(\n",
        "  x = matrix(c(f_n[1:(N - 1)], rep(0, N - 1)), ncol = 2),  # Placeholder for initial inputs\n",
        "  y = rep(0, N - 1),  # Placeholder target values\n",
        "  epochs = 50,\n",
        "  batch_size = 32\n",
        ")\n",
        "\n",
        "loss <- history3$metrics$loss\n",
        "epochs <- seq_along(loss)\n",
        "\n",
        "# Plot the training loss\n",
        "plot(\n",
        "  epochs, loss, type = \"l\",\n",
        "  xlab = \"Epoch\", ylab = \"Training Loss\",\n",
        "  main = \"Training Loss vs. Epoch\",\n",
        "  col = \"blue\", lwd = 2\n",
        ")"
      ],
      "metadata": {
        "id": "nwbPNAiDsfBe"
      },
      "execution_count": null,
      "outputs": []
    }
  ]
}